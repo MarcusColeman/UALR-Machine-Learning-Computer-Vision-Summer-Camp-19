{
 "cells": [
  {
   "cell_type": "markdown",
   "metadata": {},
   "source": [
    "# Python Overview"
   ]
  },
  {
   "cell_type": "markdown",
   "metadata": {},
   "source": [
    "Welcome to the Machine Learning and Computer Vision Summer Camp Offered by the Computer Science Department at the University of Arkansas at Little Rock. We Will be Using Jupyter Notebooks Like This Throughout the Camp. This Particular Notebook Was Created to Provide You With an Overview of the Python Programming Language in the Event That You Were Unfamiliar. Python has a lot of Bells and Whistles and this Notebook is by No Means a Comprehensive Treatise but Should Provide Sufficient Background In Order For You to Understand Future Material."
   ]
  },
  {
   "cell_type": "markdown",
   "metadata": {},
   "source": [
    "## Data Types"
   ]
  },
  {
   "cell_type": "markdown",
   "metadata": {},
   "source": [
    "### Integers(int)- whole numbers (i.e. 10,100,1000)\n",
    "### Floating Point (float)- numbers that include decimal points (i.e. 5.0, 100.00)\n",
    "### Strings (str)- sequences of characters(i.e. \"hello world\"); enclosed in quotes\n",
    "### Lists(list)- ordered sequences of objects(i.e. a list of numbers [10,100,1000,10000] ); enclosed in brackets\n",
    "### Dictionaries(dict)- unordered key-value pairs (i.e. {\"my_key\": \"my_value\"}); enclosed in curly braces; key and value separated by colon\n",
    "### Tuples (tup)- ordered sequences of objects that can't be changed (i.e. tuple of names ('john','karen','sam')); enclosed in parentheses\n",
    "### Sets (set) - unordered group of unique objects (i.e. set(\"a\",\"b\".\"c\"))\n",
    "### Booleans (bool) - logical values(i.e. True or False)"
   ]
  },
  {
   "cell_type": "markdown",
   "metadata": {},
   "source": [
    "## Numbers"
   ]
  },
  {
   "cell_type": "markdown",
   "metadata": {},
   "source": [
    "### Addition"
   ]
  },
  {
   "cell_type": "code",
   "execution_count": 1,
   "metadata": {},
   "outputs": [
    {
     "data": {
      "text/plain": [
       "5"
      ]
     },
     "execution_count": 1,
     "metadata": {},
     "output_type": "execute_result"
    }
   ],
   "source": [
    "2+3"
   ]
  },
  {
   "cell_type": "markdown",
   "metadata": {},
   "source": [
    "### Subtraction"
   ]
  },
  {
   "cell_type": "code",
   "execution_count": 2,
   "metadata": {},
   "outputs": [
    {
     "data": {
      "text/plain": [
       "90"
      ]
     },
     "execution_count": 2,
     "metadata": {},
     "output_type": "execute_result"
    }
   ],
   "source": [
    "100-10"
   ]
  },
  {
   "cell_type": "markdown",
   "metadata": {},
   "source": [
    "### Division"
   ]
  },
  {
   "cell_type": "code",
   "execution_count": 3,
   "metadata": {},
   "outputs": [
    {
     "data": {
      "text/plain": [
       "25.0"
      ]
     },
     "execution_count": 3,
     "metadata": {},
     "output_type": "execute_result"
    }
   ],
   "source": [
    "50/2"
   ]
  },
  {
   "cell_type": "markdown",
   "metadata": {},
   "source": [
    "### Multiplication\n"
   ]
  },
  {
   "cell_type": "code",
   "execution_count": 4,
   "metadata": {},
   "outputs": [
    {
     "data": {
      "text/plain": [
       "34000"
      ]
     },
     "execution_count": 4,
     "metadata": {},
     "output_type": "execute_result"
    }
   ],
   "source": [
    "1000*34"
   ]
  },
  {
   "cell_type": "markdown",
   "metadata": {},
   "source": [
    "### Exponentiation"
   ]
  },
  {
   "cell_type": "code",
   "execution_count": 5,
   "metadata": {},
   "outputs": [
    {
     "data": {
      "text/plain": [
       "8"
      ]
     },
     "execution_count": 5,
     "metadata": {},
     "output_type": "execute_result"
    }
   ],
   "source": [
    "2**3"
   ]
  },
  {
   "cell_type": "markdown",
   "metadata": {},
   "source": [
    "### Modulus"
   ]
  },
  {
   "cell_type": "code",
   "execution_count": 6,
   "metadata": {},
   "outputs": [
    {
     "data": {
      "text/plain": [
       "0"
      ]
     },
     "execution_count": 6,
     "metadata": {},
     "output_type": "execute_result"
    }
   ],
   "source": [
    "10 % 2"
   ]
  },
  {
   "cell_type": "markdown",
   "metadata": {},
   "source": [
    "## Variables"
   ]
  },
  {
   "cell_type": "markdown",
   "metadata": {},
   "source": [
    "Variables are containers that allow us to store different types of data. For example we could store the name Sam in variable called name. This would allow us to call name whenever we wanted to refer to Sam. Let's see how we can do this."
   ]
  },
  {
   "cell_type": "code",
   "execution_count": 7,
   "metadata": {},
   "outputs": [
    {
     "data": {
      "text/plain": [
       "'\\nIf we want to compose a multiline comment we enclose it in side of two sets of single quotes like this \\n'"
      ]
     },
     "execution_count": 7,
     "metadata": {},
     "output_type": "execute_result"
    }
   ],
   "source": [
    "#Note: we use a single hash to denote a comment. Anything that follows the hash symbol will not be ready by the compiler at run time or in other words the computer will ignore it. We typically use comments\n",
    "# to annotate our code so to improve the readability for others.\n",
    "'''\n",
    "If we want to compose a multiline comment we enclose it in side of two sets of single quotes like this \n",
    "'''"
   ]
  },
  {
   "cell_type": "code",
   "execution_count": 8,
   "metadata": {},
   "outputs": [],
   "source": [
    "#initializing variable name to Sam\n",
    "name=\"Sam\""
   ]
  },
  {
   "cell_type": "markdown",
   "metadata": {},
   "source": [
    "Notice how we enclosed Sam inside of double quotes to denote a string data type. In some languages strings are only denoted by double quotes, however in Python we can use single or double quotes.\n",
    "Let's now display our name by referencing our variable."
   ]
  },
  {
   "cell_type": "code",
   "execution_count": 9,
   "metadata": {},
   "outputs": [
    {
     "data": {
      "text/plain": [
       "'Sam'"
      ]
     },
     "execution_count": 9,
     "metadata": {},
     "output_type": "execute_result"
    }
   ],
   "source": [
    "name"
   ]
  },
  {
   "cell_type": "markdown",
   "metadata": {},
   "source": [
    "We can also use the print function to display Sam."
   ]
  },
  {
   "cell_type": "code",
   "execution_count": 10,
   "metadata": {},
   "outputs": [
    {
     "name": "stdout",
     "output_type": "stream",
     "text": [
      "Sam\n"
     ]
    }
   ],
   "source": [
    "print(name)"
   ]
  },
  {
   "cell_type": "markdown",
   "metadata": {},
   "source": [
    "We could follow the same process to assign other data types to variables. Let's create a list of names and display our list."
   ]
  },
  {
   "cell_type": "code",
   "execution_count": 45,
   "metadata": {},
   "outputs": [],
   "source": [
    "#creating a list of names\n",
    "list_of_names=['Al','Mark','Dave','Beth','Ken','Janet','Tom','Ashley']"
   ]
  },
  {
   "cell_type": "code",
   "execution_count": 46,
   "metadata": {},
   "outputs": [
    {
     "name": "stdout",
     "output_type": "stream",
     "text": [
      "['Al', 'Mark', 'Dave', 'Beth', 'Ken', 'Janet', 'Tom', 'Ashley']\n"
     ]
    }
   ],
   "source": [
    "#Displaying list of names\n",
    "print(list_of_names)"
   ]
  },
  {
   "cell_type": "markdown",
   "metadata": {},
   "source": [
    "## Strings"
   ]
  },
  {
   "cell_type": "markdown",
   "metadata": {},
   "source": [
    "Recall that a string is simply an array of characters. We can create strings using single or double quotes and store them in variables. Strings also have a lot of built in methods that can be called off of them. Let's take a look at some examples."
   ]
  },
  {
   "cell_type": "code",
   "execution_count": 13,
   "metadata": {},
   "outputs": [],
   "source": [
    "#declaring a string variable\n",
    "long_string=\"This is a really long string used for example purposes as a means of showing what methods can be called off of string objects.\"\n",
    "second_string=\"This is the second sentence of our example.\""
   ]
  },
  {
   "cell_type": "markdown",
   "metadata": {},
   "source": [
    "Now let's see what methods we can call off of our really long string. Let's start by concatenating or adding our strings together."
   ]
  },
  {
   "cell_type": "code",
   "execution_count": 14,
   "metadata": {},
   "outputs": [
    {
     "data": {
      "text/plain": [
       "'This is a really long string used for example purposes as a means of showing what methods can be called off of string objects. This is the second sentence of our example.'"
      ]
     },
     "execution_count": 14,
     "metadata": {},
     "output_type": "execute_result"
    }
   ],
   "source": [
    "long_string+' '+second_string"
   ]
  },
  {
   "cell_type": "markdown",
   "metadata": {},
   "source": [
    "We can also call methods off of our string object to check if it contains are alpha, numeric, alphanumeric, lower case, upper case, etc characters. Let's take a look at a few."
   ]
  },
  {
   "cell_type": "code",
   "execution_count": 15,
   "metadata": {},
   "outputs": [
    {
     "data": {
      "text/plain": [
       "False"
      ]
     },
     "execution_count": 15,
     "metadata": {},
     "output_type": "execute_result"
    }
   ],
   "source": [
    "long_string.isalpha()"
   ]
  },
  {
   "cell_type": "code",
   "execution_count": 16,
   "metadata": {},
   "outputs": [
    {
     "data": {
      "text/plain": [
       "False"
      ]
     },
     "execution_count": 16,
     "metadata": {},
     "output_type": "execute_result"
    }
   ],
   "source": [
    "long_string.isalnum()"
   ]
  },
  {
   "cell_type": "code",
   "execution_count": 17,
   "metadata": {},
   "outputs": [
    {
     "data": {
      "text/plain": [
       "False"
      ]
     },
     "execution_count": 17,
     "metadata": {},
     "output_type": "execute_result"
    }
   ],
   "source": [
    "long_string.islower()"
   ]
  },
  {
   "cell_type": "code",
   "execution_count": 18,
   "metadata": {},
   "outputs": [
    {
     "data": {
      "text/plain": [
       "False"
      ]
     },
     "execution_count": 18,
     "metadata": {},
     "output_type": "execute_result"
    }
   ],
   "source": [
    "long_string.isdigit()"
   ]
  },
  {
   "cell_type": "markdown",
   "metadata": {},
   "source": [
    "We can also check the length of our string by using the len function."
   ]
  },
  {
   "cell_type": "code",
   "execution_count": 19,
   "metadata": {},
   "outputs": [
    {
     "data": {
      "text/plain": [
       "126"
      ]
     },
     "execution_count": 19,
     "metadata": {},
     "output_type": "execute_result"
    }
   ],
   "source": [
    "len(long_string)"
   ]
  },
  {
   "cell_type": "markdown",
   "metadata": {},
   "source": [
    "There are a lot of other methods that can be used with strings. You can learn by referring to the resources provided at the end of this overview."
   ]
  },
  {
   "cell_type": "markdown",
   "metadata": {},
   "source": [
    "## Lists"
   ]
  },
  {
   "cell_type": "markdown",
   "metadata": {},
   "source": [
    "A list is a data structure that allows us to store an ordered group of objects. Lists have several \"methods\" that can be called off of them. What this means is that once you create a list, it automatically comes with built in functionality that allows you to do things such as sorting, appending or adding to it, etc. These functionalities are implemented by using a dot following the list object and then calling the method that you would like to use."
   ]
  },
  {
   "cell_type": "markdown",
   "metadata": {},
   "source": [
    "As an example, let's create a list of numbers and then use the built in sort method to sort those numbers."
   ]
  },
  {
   "cell_type": "code",
   "execution_count": 20,
   "metadata": {},
   "outputs": [
    {
     "name": "stdout",
     "output_type": "stream",
     "text": [
      "[90, 4, 5, 34, 21, 53, 63, 66, 10, 101, 23, 12, 18, 73, 22, 33, 0]\n"
     ]
    }
   ],
   "source": [
    "#creating a list of numbers\n",
    "numbers=[90,4,5,34,21,53,63,66,10,101,23,12,18,73,22,33,0]\n",
    "print(numbers)"
   ]
  },
  {
   "cell_type": "code",
   "execution_count": 21,
   "metadata": {},
   "outputs": [
    {
     "name": "stdout",
     "output_type": "stream",
     "text": [
      "None\n"
     ]
    }
   ],
   "source": [
    "#calling sort method on list and storing it into a new variable\n",
    "print(numbers.sort())"
   ]
  },
  {
   "cell_type": "code",
   "execution_count": 25,
   "metadata": {},
   "outputs": [
    {
     "data": {
      "text/plain": [
       "[0, 4, 5, 10, 12, 18, 21, 22, 23, 33, 34, 53, 63, 66, 73, 90, 101]"
      ]
     },
     "execution_count": 25,
     "metadata": {},
     "output_type": "execute_result"
    }
   ],
   "source": [
    "#displaying sorted list of numbers\n",
    "sorted(numbers)"
   ]
  },
  {
   "cell_type": "markdown",
   "metadata": {},
   "source": [
    "## Indexing and Slicing"
   ]
  },
  {
   "cell_type": "markdown",
   "metadata": {},
   "source": [
    "Suppose we have some list of data and we only want to return a specific value or a specific portion of the data, how would we do it? This is where indexing and slicing come in. In Python and several other languages indexing begins at 0. There are some languages such as R, that index data begin with 1. Let's look at an example of indexing and slicing. For clarity, indexing refers to the position of the data and slicing is the process of retrieving a portion of data."
   ]
  },
  {
   "cell_type": "markdown",
   "metadata": {},
   "source": [
    "Let's use our list of names to learn more about indexing and slicing. Suppose I only want the first three names in our list of names. Knowing that our names are ordered and are indexed beginning with 0, I could do the following"
   ]
  },
  {
   "cell_type": "code",
   "execution_count": 26,
   "metadata": {},
   "outputs": [
    {
     "data": {
      "text/plain": [
       "['Al', 'Mark', 'Dave']"
      ]
     },
     "execution_count": 26,
     "metadata": {},
     "output_type": "execute_result"
    }
   ],
   "source": [
    "list_of_names[0:3]"
   ]
  },
  {
   "cell_type": "markdown",
   "metadata": {},
   "source": [
    "In the above code block we call the name of our variable, in this case list_of_names, and use square brackets for slicing. The first number represents the starting point and the last represents the ending point. These are separated by a colon."
   ]
  },
  {
   "cell_type": "markdown",
   "metadata": {},
   "source": [
    "What if we wanted the last three names in our list? We could do the following."
   ]
  },
  {
   "cell_type": "code",
   "execution_count": 27,
   "metadata": {},
   "outputs": [
    {
     "data": {
      "text/plain": [
       "['Janet', 'Tom', 'Ashley']"
      ]
     },
     "execution_count": 27,
     "metadata": {},
     "output_type": "execute_result"
    }
   ],
   "source": [
    "list_of_names[-3:]"
   ]
  },
  {
   "cell_type": "markdown",
   "metadata": {},
   "source": [
    "Notice in order to get the last three names, we passed in a negative three in the starting position and left the ending position blank. This translates into telling the computer to start at the third name from the end of the list and include every name thereafter."
   ]
  },
  {
   "cell_type": "markdown",
   "metadata": {},
   "source": [
    "## Dictionaries"
   ]
  },
  {
   "cell_type": "markdown",
   "metadata": {},
   "source": [
    "A Dictionary is a data structure that stores key value pairs. These may be referred to as hash tables or maps in other programming languages. Let's look at an example of using a dictionary in Python. Suppose we wanted to store data for each student in a class along with the grade that the currently have. We could use a dictionary. We could write a program that would return the current grade of the student whose name we passed in."
   ]
  },
  {
   "cell_type": "code",
   "execution_count": 28,
   "metadata": {},
   "outputs": [],
   "source": [
    "#creating a dictionary of students and grades\n",
    "students={'Mark':90,'Susan':95,'Tom':86,'Diane':83}"
   ]
  },
  {
   "cell_type": "markdown",
   "metadata": {},
   "source": [
    "Now that we have a dictionary of students and grades, let's see how we can retrieve the student's grades. With dictionaries we pass in the key in brackets similiar to the format we learned for indexing and slicing and it will give us the corresponding value. Let's look at an example."
   ]
  },
  {
   "cell_type": "code",
   "execution_count": 29,
   "metadata": {},
   "outputs": [
    {
     "data": {
      "text/plain": [
       "95"
      ]
     },
     "execution_count": 29,
     "metadata": {},
     "output_type": "execute_result"
    }
   ],
   "source": [
    "#retrieving Susan's grade\n",
    "students['Susan']"
   ]
  },
  {
   "cell_type": "markdown",
   "metadata": {},
   "source": [
    "Note that we stored a string as our key in this example, however other data types can also serve as keys."
   ]
  },
  {
   "cell_type": "markdown",
   "metadata": {},
   "source": [
    "## Tuples"
   ]
  },
  {
   "cell_type": "markdown",
   "metadata": {},
   "source": [
    "A tuple is an immutable sequence data structure. This means that once we create a tuple, we can not make changes to it. Let's see an example of creating a tuple."
   ]
  },
  {
   "cell_type": "code",
   "execution_count": 30,
   "metadata": {},
   "outputs": [],
   "source": [
    "#creating a password tuple\n",
    "passwords=(213,423,534,213)"
   ]
  },
  {
   "cell_type": "markdown",
   "metadata": {},
   "source": [
    "Let's check the type of our data structure."
   ]
  },
  {
   "cell_type": "code",
   "execution_count": 32,
   "metadata": {},
   "outputs": [
    {
     "data": {
      "text/plain": [
       "tuple"
      ]
     },
     "execution_count": 32,
     "metadata": {},
     "output_type": "execute_result"
    }
   ],
   "source": [
    "type(passwords)"
   ]
  },
  {
   "cell_type": "markdown",
   "metadata": {},
   "source": [
    "So we've created a tuple of integers. Let's now try and reassign a specific index position. We'll first check what's in index position one."
   ]
  },
  {
   "cell_type": "code",
   "execution_count": 33,
   "metadata": {},
   "outputs": [
    {
     "data": {
      "text/plain": [
       "423"
      ]
     },
     "execution_count": 33,
     "metadata": {},
     "output_type": "execute_result"
    }
   ],
   "source": [
    "#displaying password in index position one\n",
    "passwords[1]"
   ]
  },
  {
   "cell_type": "code",
   "execution_count": 34,
   "metadata": {},
   "outputs": [
    {
     "ename": "TypeError",
     "evalue": "'tuple' object does not support item assignment",
     "output_type": "error",
     "traceback": [
      "\u001b[1;31m---------------------------------------------------------------------------\u001b[0m",
      "\u001b[1;31mTypeError\u001b[0m                                 Traceback (most recent call last)",
      "\u001b[1;32m<ipython-input-34-282fe2ade8fe>\u001b[0m in \u001b[0;36m<module>\u001b[1;34m\u001b[0m\n\u001b[0;32m      1\u001b[0m \u001b[1;31m#attempting to reassign password in index position one\u001b[0m\u001b[1;33m\u001b[0m\u001b[1;33m\u001b[0m\u001b[1;33m\u001b[0m\u001b[0m\n\u001b[1;32m----> 2\u001b[1;33m \u001b[0mpasswords\u001b[0m\u001b[1;33m[\u001b[0m\u001b[1;36m1\u001b[0m\u001b[1;33m]\u001b[0m\u001b[1;33m=\u001b[0m\u001b[1;36m000\u001b[0m\u001b[1;33m\u001b[0m\u001b[1;33m\u001b[0m\u001b[0m\n\u001b[0m",
      "\u001b[1;31mTypeError\u001b[0m: 'tuple' object does not support item assignment"
     ]
    }
   ],
   "source": [
    "#attempting to reassign password in index position one\n",
    "passwords[1]=000"
   ]
  },
  {
   "cell_type": "markdown",
   "metadata": {},
   "source": [
    "We can see above that this operation gives us an error. To ensure that we fully understand how tuples work, let's create another password variable that's not a tuple and try the reassignment. We'll use a list this time to store our passwords."
   ]
  },
  {
   "cell_type": "code",
   "execution_count": 35,
   "metadata": {},
   "outputs": [],
   "source": [
    "#creating second password\n",
    "passwords2=[442,532,555]"
   ]
  },
  {
   "cell_type": "code",
   "execution_count": 36,
   "metadata": {},
   "outputs": [],
   "source": [
    "#reassigning specifc index position in passwords2\n",
    "passwords2[1]=123"
   ]
  },
  {
   "cell_type": "code",
   "execution_count": 37,
   "metadata": {},
   "outputs": [
    {
     "name": "stdout",
     "output_type": "stream",
     "text": [
      "[442, 123, 555]\n"
     ]
    }
   ],
   "source": [
    "#displaying updated passwords2 list\n",
    "print(passwords2)"
   ]
  },
  {
   "cell_type": "markdown",
   "metadata": {},
   "source": [
    "So we can see that in the previous password example, the password in index position one has been changed. This is because lists are mutuable. However, as shown, in the case of tuples, once we assign a value(s), we cannot reassign a value(s)."
   ]
  },
  {
   "cell_type": "markdown",
   "metadata": {},
   "source": [
    "## Sets"
   ]
  },
  {
   "cell_type": "markdown",
   "metadata": {},
   "source": [
    "Sets are an unordered collection of unique elements. Let's take a look at an example"
   ]
  },
  {
   "cell_type": "code",
   "execution_count": 63,
   "metadata": {},
   "outputs": [],
   "source": [
    "#creating a list of none unique numbers\n",
    "not_unique=[1,2,2,3,1,5,3,4,5,6,3,4,4,2,1,2,3]"
   ]
  },
  {
   "cell_type": "code",
   "execution_count": 64,
   "metadata": {},
   "outputs": [],
   "source": [
    "#creating a set from the above list of none unique numbers\n",
    "unique=set(not_unique)"
   ]
  },
  {
   "cell_type": "code",
   "execution_count": 65,
   "metadata": {},
   "outputs": [
    {
     "name": "stdout",
     "output_type": "stream",
     "text": [
      "{1, 2, 3, 4, 5, 6}\n"
     ]
    }
   ],
   "source": [
    "#displaying set of unique numbers\n",
    "print(unique)"
   ]
  },
  {
   "cell_type": "markdown",
   "metadata": {},
   "source": [
    "We started by creating a list of numbers with most numbers being repeated multiple times. We then use the set function to create a set from these numbers. As shown above, the set function ignores elements that repeat and merely extracts all of the unique elements from the list."
   ]
  },
  {
   "cell_type": "markdown",
   "metadata": {},
   "source": [
    "Note, we could have also created a set of unique numbers by using the bracket notion instead of the built in set function as follows."
   ]
  },
  {
   "cell_type": "code",
   "execution_count": 67,
   "metadata": {},
   "outputs": [],
   "source": [
    "#creating set of unique numbers using bracket notion\n",
    "still_unique={x for x in not_unique}"
   ]
  },
  {
   "cell_type": "code",
   "execution_count": 68,
   "metadata": {},
   "outputs": [
    {
     "name": "stdout",
     "output_type": "stream",
     "text": [
      "{1, 2, 3, 4, 5, 6}\n"
     ]
    }
   ],
   "source": [
    "#printing out set of unique numbers \n",
    "print(still_unique)"
   ]
  },
  {
   "cell_type": "markdown",
   "metadata": {},
   "source": [
    "Okay. You are probably wondering what did we just do in creating the still unique variable. The above notation is not the standard way to create a set using brackets. This notation is called a set comprehension of which is a bit more advanced. There are also list and dictionary comprehensions which follow the same logic. Python has a variety of ways to do the same task often at varying degrees of complexity. Before I explain the idea behind comprehensions and why I use one here, let's look at the standard set notation."
   ]
  },
  {
   "cell_type": "code",
   "execution_count": 69,
   "metadata": {},
   "outputs": [],
   "source": [
    "#using the standard set notation to create set of unique elements from repeating elements\n",
    "standard_set={1,1,1,2,2,4,5,5,4,2,3,4,5,2,3,6,87,6,4,7}"
   ]
  },
  {
   "cell_type": "code",
   "execution_count": 70,
   "metadata": {},
   "outputs": [
    {
     "name": "stdout",
     "output_type": "stream",
     "text": [
      "{1, 2, 3, 4, 5, 6, 7, 87}\n"
     ]
    }
   ],
   "source": [
    "#printing standard set\n",
    "print(standard_set)"
   ]
  },
  {
   "cell_type": "markdown",
   "metadata": {},
   "source": [
    "Using the standard set notation above, we can see that despite passing in several numbers that repeat, the set only stored each unique element."
   ]
  },
  {
   "cell_type": "markdown",
   "metadata": {},
   "source": [
    "So why did we use a set comprehension instead of a standard set earlier? We used a set comprehension because we originally stored our numbers in a list data structure. This meant that we need to iterate or loop over the list and pass each element into our set operation. Comprehensions allow us to iterate over a sequence and store the elements in a new data structure in a lot less code than manually writing a for loop and appending each element to the new data structure. The set comprehension notation programmatically is equivalent to the standard set notation in that it created an identical set operation. However, we can see each element in the standard set notation versus only logically seeing each element in the comprehension notation. Imagine having a list of thousands of numbers that you need to extract each unique element for. You wouldn't want to sit and manually go through and write down each element that you hadn't already seen. You wouldn't be able to pass a list directly into a set either as this would throw an error. You could manually write a for loop and at each iteration pass that specific element into the set, but this would take more lines of code. Thus you would want to use a set comprehension."
   ]
  },
  {
   "cell_type": "markdown",
   "metadata": {},
   "source": [
    "## Functions"
   ]
  },
  {
   "cell_type": "markdown",
   "metadata": {},
   "source": [
    "Similar to mathematics, a function takes in one or more variables and returns an output. Let's review how this done in Python."
   ]
  },
  {
   "cell_type": "code",
   "execution_count": 58,
   "metadata": {},
   "outputs": [],
   "source": [
    "#creating a function to display a name and greeting\n",
    "def greeting(name):\n",
    "    greeting=f\"Hello. My name is {name}. How are you?\"\n",
    "    print(greeting)\n",
    "    return greeting"
   ]
  },
  {
   "cell_type": "markdown",
   "metadata": {},
   "source": [
    "Above we create a function that takes a name and returns a greeting. We used string formatting to declare the greeting in a way in which we could easily iterate through a list of names and insert each into the greeting. In addition to printing the greeting, we also returned the greeting. This means that after we displayed our greeting it could also be stored in a variable which would allow us to reuse it."
   ]
  },
  {
   "cell_type": "markdown",
   "metadata": {},
   "source": [
    "Now that we have our greeting function, let's use a name from the list of names we created earlier. We can use what we learned about indexing to randomly choose a name and display it using our greeting function."
   ]
  },
  {
   "cell_type": "code",
   "execution_count": 59,
   "metadata": {},
   "outputs": [
    {
     "name": "stdout",
     "output_type": "stream",
     "text": [
      "Hello. My name is Ken. How are you?\n"
     ]
    },
    {
     "data": {
      "text/plain": [
       "'Hello. My name is Ken. How are you?'"
      ]
     },
     "execution_count": 59,
     "metadata": {},
     "output_type": "execute_result"
    }
   ],
   "source": [
    "#calling our greeting function and passing in our list of names with random index position\n",
    "greeting(list_of_names[4])"
   ]
  },
  {
   "cell_type": "markdown",
   "metadata": {},
   "source": [
    "Okay. In this example we've combined a few things that we've learned. We used our greeting function in conjunction with what we learned about indexing values from Python data structures. Remember that our function not only displays the greeting but also returns it. Let's see how we can store what our function returns so that we can use it later."
   ]
  },
  {
   "cell_type": "code",
   "execution_count": 40,
   "metadata": {},
   "outputs": [
    {
     "name": "stdout",
     "output_type": "stream",
     "text": [
      "Hello. My name is Beth. How are you?\n"
     ]
    }
   ],
   "source": [
    "#creating a variable to store what our function returns\n",
    "greeting=greeting(list_of_names[3])"
   ]
  },
  {
   "cell_type": "markdown",
   "metadata": {},
   "source": [
    "Above we created a variable named greeting and set its value to our greeting function. This means that whatever our greeting function returns will be stored in our greeting variable. You may be wondering how we were able to name our function greeting, our variable greeting, and have a variable inside of our function named greeting as well. The answer is that while we used the same declaration name, each of these variables vary in scope. Specifically, the greeting variable inside of our greeting function is what is called a local variable. The greeting variable we created outside of our greeting function is called a global variable. Our local variable is named as such because it is only local or known by our function. Other object outside of our function are unaware of what this variable is. In contrast, our global greeting variable, the one outside of our function, is visible to other parts of our program."
   ]
  },
  {
   "cell_type": "markdown",
   "metadata": {},
   "source": [
    "## Loops"
   ]
  },
  {
   "cell_type": "markdown",
   "metadata": {},
   "source": [
    "When programming one goal that we have is to write code that can be reused and thus avoid repeating ourselves. Loops are very useful for achieving this end. Python has two key loop types, 1) for loops and 2) while loops."
   ]
  },
  {
   "cell_type": "markdown",
   "metadata": {},
   "source": [
    "We use for loops when we know how long we would like to repeat some operation. In contrast, we use while loops when we are unsure how long some operation should be repeated. We typically use some logical operator or conditional statement along with while loops as in their absence we can get stuck in an infinite loop. We'll learn more about conditional statements a little later. Let's now take a look at how for and while loops work in Python."
   ]
  },
  {
   "cell_type": "markdown",
   "metadata": {},
   "source": [
    "Recall in our functions overview section we created a method that would allow us to display a greeting and insert a specific name from our list of names into our greeting. Up until now, we have only use our function with a single name from our list of names. What if we wanted to use our function with every name in our list of names? Technically our list of names isn't so large that we couldn't manually repeat the steps that we've shown above for each index position. But, what if we have a list of thousands of names; it wouldn't be feasible to write the same function over and over again manually changing out the index position. We could use a for loop to automate the process of changing out the index position. Let's see how it works."
   ]
  },
  {
   "cell_type": "code",
   "execution_count": 61,
   "metadata": {},
   "outputs": [
    {
     "name": "stdout",
     "output_type": "stream",
     "text": [
      "Hello. My name is Al. How are you?\n",
      "Hello. My name is Mark. How are you?\n",
      "Hello. My name is Dave. How are you?\n",
      "Hello. My name is Beth. How are you?\n",
      "Hello. My name is Ken. How are you?\n",
      "Hello. My name is Janet. How are you?\n",
      "Hello. My name is Tom. How are you?\n",
      "Hello. My name is Ashley. How are you?\n"
     ]
    }
   ],
   "source": [
    "#iterating over our list of names and applying our greeting function\n",
    "for name in range(len(list_of_names)):\n",
    "    greeting(list_of_names[name])\n",
    "    "
   ]
  },
  {
   "cell_type": "markdown",
   "metadata": {},
   "source": [
    "Let's take a close look at what's happening here. We began our for loop by using the for statement. We also made use of a couple built-in function, namely 1) range and 2)len. The range function allows you to create a range of numbers from some starting point to some ending point. It also allows you to specify a step size or some amount in which to increment. The len function returns the length of whatever data structure you pass in. So in our example, we received the length of our list of names, of which corresponds to how many names we have and then passed that number into our range function. This means that we are stating to create a range of index positions in our list of names. Thus when we wrote the statement for name in..., name is referring to the index positions. This allows us to substitute name as the index position instead of manually typing an index position and because we created a range of index positions, each one will be substituted in."
   ]
  },
  {
   "cell_type": "markdown",
   "metadata": {},
   "source": [
    "To ensure that this makes sense, play around with the range and len functions as well as the for loop."
   ]
  },
  {
   "cell_type": "markdown",
   "metadata": {},
   "source": [
    "What if we wanted to use our name function to print our greeting for each name but we only wanted to do so if the index position was less than the half way mark? We could use a while loop to achieve this. Let's see how."
   ]
  },
  {
   "cell_type": "code",
   "execution_count": 62,
   "metadata": {},
   "outputs": [
    {
     "name": "stdout",
     "output_type": "stream",
     "text": [
      "Hello. My name is Al. How are you?\n",
      "Hello. My name is Mark. How are you?\n",
      "Hello. My name is Dave. How are you?\n",
      "Hello. My name is Beth. How are you?\n"
     ]
    }
   ],
   "source": [
    "#creating variable to hold half way mark\n",
    "midpoint=len(list_of_names)/2\n",
    "\n",
    "#creating while loop to print out greeting up to the midpoint index\n",
    "for name in range(len(list_of_names)):\n",
    "    while name < midpoint:\n",
    "        greeting(list_of_names[name])\n",
    "        break"
   ]
  },
  {
   "cell_type": "markdown",
   "metadata": {},
   "source": [
    "In the above code block we created what is called a nested loop. We used a for loop to traverse our list names. We then used a while loop to filter out names that were less than the midpoint index position and pass those names into our greeting function. While loops can be used in the absence of for loops."
   ]
  },
  {
   "cell_type": "markdown",
   "metadata": {},
   "source": [
    "At each iteration of the for loop the while loop checks to see if the current index position is less than the midpoint. If it is then it uses that position to slice the corresponding name from the list of names and passes it into the greeting function."
   ]
  },
  {
   "cell_type": "markdown",
   "metadata": {},
   "source": [
    "The break function is one of three built in functions availabe for use with loops in Python. The others are pass and continue. The break function ensures that we avoid getting stuck in an infiite loop by terminating the operation."
   ]
  },
  {
   "cell_type": "markdown",
   "metadata": {},
   "source": [
    "## Conditional Statements"
   ]
  },
  {
   "cell_type": "markdown",
   "metadata": {},
   "source": [
    "Conditional Statements encompass natural language phrases like if, else if, and else. The notation of these statements vary from language to language but the functionality remains constant. These statements allow us to check for certain conditions, positive or negative, before performing some operation. Let's see how they work."
   ]
  },
  {
   "cell_type": "markdown",
   "metadata": {},
   "source": [
    "Recall earlier we created a nested loop, using both for and while loops, to filter out specific names from our list of names to display with our greeting function. Let's look at an alternate way of doing this without using nested loops."
   ]
  },
  {
   "cell_type": "code",
   "execution_count": 72,
   "metadata": {},
   "outputs": [
    {
     "name": "stdout",
     "output_type": "stream",
     "text": [
      "Hello. My name is Al. How are you?\n",
      "MARK is at an odd index position\n",
      "Hello. My name is Dave. How are you?\n",
      "BETH is at an odd index position\n",
      "Hello. My name is Ken. How are you?\n",
      "JANET is at an odd index position\n",
      "Hello. My name is Tom. How are you?\n",
      "ASHLEY is at an odd index position\n"
     ]
    }
   ],
   "source": [
    "for name in range(len(list_of_names)):\n",
    "    #creating conditional statement to filter out even names\n",
    "    if name % 2 ==0:\n",
    "        greeting(list_of_names[name])\n",
    "    #conditional statement to filter out odd names    \n",
    "    elif name %2 !=0:\n",
    "        print(f'{list_of_names[name].upper()} is at an odd index position')\n",
    "    #conditional statement that is run if prior statement are not true    \n",
    "    else:\n",
    "        print('This is the end of the list.')"
   ]
  },
  {
   "cell_type": "markdown",
   "metadata": {},
   "source": [
    "In the above block of code we are using a few different elements of the Python programming language. We built on what we've learned about loops by adding a conditional statement to filter out specific cases in which to perform specific operations. The three conditional statement that we use are if, elif, or Python's way of saying else if, and else. They computer will start by reading the if statement condition and if it is true, will run the operation that follows it. If that statement is not true, the computer will then go to the next statement, elif, and read that statement and if it is true, will perform the enclosed operation. If neither the if or elif statements are true, then the computer will perform the statement enclosed in the else statement."
   ]
  },
  {
   "cell_type": "markdown",
   "metadata": {},
   "source": [
    "We also incorporated a built in string method, upper,as well. This method transforms the string it's called off of into uppercase letters. This is why the odd names appear in uppercase"
   ]
  },
  {
   "cell_type": "markdown",
   "metadata": {},
   "source": [
    "## Built-In Functions"
   ]
  },
  {
   "cell_type": "markdown",
   "metadata": {},
   "source": [
    "Built-in functions are operations that are already pre-packaged within the Python programming language. This allows us to avoid writing some functions from scratch as their implementation doesn't change. Some of which we have already seen such as float, set, range, len and tuple. Others include any, all, enumerate, input, etc."
   ]
  },
  {
   "cell_type": "markdown",
   "metadata": {},
   "source": [
    "You can visit the following link to learn more about Python's built-in functions: https://docs.python.org/3/library/functions.html"
   ]
  },
  {
   "cell_type": "markdown",
   "metadata": {},
   "source": [
    "## Classes and Object Oriented Programming"
   ]
  },
  {
   "cell_type": "markdown",
   "metadata": {},
   "source": [
    "Object Oriented Programming, or OOP, is an important paradigm within computer science. To better understand objects and classes in Python, let's look at an example."
   ]
  },
  {
   "cell_type": "markdown",
   "metadata": {},
   "source": [
    "Suppose we wanted to write a program to build an automobile. How would we do this? We could first start by listing the different components of the vehicle. We might say that we wanted to build a car and that a car has doors, wheels, windows, etc. We could manually write some code to create each element of our car. "
   ]
  },
  {
   "cell_type": "markdown",
   "metadata": {},
   "source": [
    "But, what if we wanted to create another car that had only two doors instead of four; Or what if we wanted to create a truck or an SUV. All of these are types or classes of automobiles and thus will have some of the same elements like windows, doors, and wheels. Their elements may vary somewhat but the basic idea, for example that wheels are round, would be consistent across each vehicle regardless if it was a car, truck, or SUV."
   ]
  },
  {
   "cell_type": "markdown",
   "metadata": {},
   "source": [
    "Given that there are base configurations for each type of automobile and in programming we don't want to repeat ourselves, we would want some way to reuse the code we created for making doors for cars when we began making doors for trucks given that difference would be minimal."
   ]
  },
  {
   "cell_type": "markdown",
   "metadata": {},
   "source": [
    "This is where OOP and classes, come in handy. We can create an automobile class that will allow us to create our own assembly line of autombiles. Let's see how."
   ]
  },
  {
   "cell_type": "code",
   "execution_count": 73,
   "metadata": {},
   "outputs": [],
   "source": [
    "#creating base class\n",
    "class automobile(object):\n",
    "    #creating constructor\n",
    "    def __init__(self,wheels,windows,doors):\n",
    "        self.wheels=wheels\n",
    "        self.windows=windows\n",
    "        self.doors=doors\n",
    "        \n",
    "    def get_automobile_type(self):\n",
    "        if self.doors==2:\n",
    "            print('This is a coupe')\n",
    "        elif self.doors ==4:\n",
    "            print('This is a sedan ')\n",
    "            \n",
    "        return"
   ]
  },
  {
   "cell_type": "markdown",
   "metadata": {},
   "source": [
    "Okay. Above we've created our automobile class. This means that we can create as many instances or versions of our automobile as we like without rewriting code. Let's see how this works. We will begin by initializing a variable or instance of our autombile."
   ]
  },
  {
   "cell_type": "code",
   "execution_count": 74,
   "metadata": {},
   "outputs": [],
   "source": [
    "#creating first instance of automobile class\n",
    "car_one=automobile(wheels=4,windows=4,doors=4)"
   ]
  },
  {
   "cell_type": "markdown",
   "metadata": {},
   "source": [
    "Above we have just created car one. Now we can access the different functions, or in this case methods associated with the automobile class and apply them to car_one because it is one version of our automobile class. For simplicity we only created one method within our automobile class. Let's see how to use it."
   ]
  },
  {
   "cell_type": "code",
   "execution_count": 75,
   "metadata": {},
   "outputs": [
    {
     "name": "stdout",
     "output_type": "stream",
     "text": [
      "This is a sedan \n"
     ]
    }
   ],
   "source": [
    "#calling our get automobile type method on our car_one instance of the automobile class\n",
    "car_one.get_automobile_type()"
   ]
  },
  {
   "cell_type": "markdown",
   "metadata": {},
   "source": [
    "We were able to access our method created in our automobile class, get_automobile_type by using the dot operator and writing the name of the method we wanted to use. We can see that our first car instance is a sedan. The beautiful thing about OOP is that we can now create more cars."
   ]
  },
  {
   "cell_type": "code",
   "execution_count": 77,
   "metadata": {},
   "outputs": [],
   "source": [
    "#creating second car instance\n",
    "car_two=automobile(wheels=4,windows=2,doors=2)"
   ]
  },
  {
   "cell_type": "code",
   "execution_count": 78,
   "metadata": {},
   "outputs": [
    {
     "name": "stdout",
     "output_type": "stream",
     "text": [
      "This is a coupe\n"
     ]
    }
   ],
   "source": [
    "#checking type of automobile of second car\n",
    "car_two.get_automobile_type()"
   ]
  },
  {
   "cell_type": "markdown",
   "metadata": {},
   "source": [
    "Now we have both a sedan and a coupe. But what if we wanted to create a truck? Our \"base\" autombile class is very generic. Sure it includes the basic elements of every automobile but it lacks the detail of some specific types of automobiles. To solve this problem, we can create a derive class.  A derived class, inherits the base elements from the base class but also adds its own elements that are specific to that object type. Let's illustrate this by creating a truck."
   ]
  },
  {
   "cell_type": "code",
   "execution_count": 105,
   "metadata": {},
   "outputs": [],
   "source": [
    "#creating truck derived class\n",
    "class truck(automobile): #notice here that we passed in automobile instead of object as we did before in our base class\n",
    "    #creating constructor(i.e. the entry point of each object; initialization part of each object)\n",
    "    \n",
    "    def __init__(self,AWD,RWD,FWD,color,sunroof,interior,make,model):\n",
    "        #initializing base class constructor\n",
    "        automobile.__init__(self,wheels=4,windows=4,doors=4)\n",
    "        self.AWD=AWD\n",
    "        self.RWD=RWD\n",
    "        self.FWD=FWD\n",
    "        self.color=color\n",
    "        self.sunroof=sunroof\n",
    "        self.interior=interior\n",
    "        self.make=make\n",
    "        self.model=model\n",
    "        \n",
    "    def get_automobile_type(self):\n",
    "        if self.AWD==True:\n",
    "            print(f'This automobile is a {self.color} {self.make} {self.model} truck with {self.interior} interior with all wheel drive')\n",
    "                  \n",
    "            if self.sunroof == True:\n",
    "                print('This vehicle also has a sunroof.')\n",
    "            else:\n",
    "                print('This vehicle doesn\"t have a sunroof.')\n",
    "          \n",
    "        elif self.RWD:\n",
    "            print(f'This automobile is a {self.color} {self.make} {self.model} truck with {self.interior} interior with rear wheel drive')\n",
    "                   \n",
    "            if self.sunroof == True:\n",
    "                print('This vehicle also has a sunroof.')\n",
    "            else:\n",
    "                print('This vehicle doesn\"t have a sunroof.')\n",
    "\n",
    "\n",
    "        elif self.FWD:\n",
    "            print(f'This automobile is a {self.color} {self.make} {self.model} truck with {self.interior} interior with front wheel drive')\n",
    "\n",
    "            if self.sunroof == True:\n",
    "                print('This vehicle also has a sunroof.')\n",
    "            else:\n",
    "                print('This vehicle doesn\"t have a sunroof.')\n",
    "\n",
    "\n",
    "        return\n",
    "\n",
    "           \n",
    "          \n",
    "                   \n",
    "                   \n",
    "       \n",
    "        "
   ]
  },
  {
   "cell_type": "code",
   "execution_count": 106,
   "metadata": {},
   "outputs": [],
   "source": [
    "#creating an instance of our truck class\n",
    "toyota_tacoma=truck(AWD=True,FWD=False,RWD=False,interior='leather',sunroof=True,color='red',make='Toyota',model='Tacoma')"
   ]
  },
  {
   "cell_type": "markdown",
   "metadata": {},
   "source": [
    "We have now created a truck instance of our automobile class. Let's call our get automobile type method off of our truck."
   ]
  },
  {
   "cell_type": "code",
   "execution_count": 107,
   "metadata": {},
   "outputs": [
    {
     "name": "stdout",
     "output_type": "stream",
     "text": [
      "This automobile is a red Toyota Tacoma truck with leather interior with all wheel drive\n",
      "This vehicle also has a sunroof.\n"
     ]
    }
   ],
   "source": [
    "toyota_tacoma.get_automobile_type()"
   ]
  },
  {
   "cell_type": "markdown",
   "metadata": {},
   "source": [
    "Note that we created a method called get_automobile_type in both our base (automobile) class and our derived(truck) class. Each class had a different implementation of the same function with the same name. This process is called function overloading or a method of creating functions whose operations vary depending on what object it's called on or what parameters are passed in."
   ]
  },
  {
   "cell_type": "markdown",
   "metadata": {},
   "source": [
    "In summary, OOP is an important concept within computer science. It allows us to create objects and different instance of those objects. We can inherit attributes from a base class or more generic object and use them within a derived class or more specific object. We are also able to reuse code that would otherwise be repeatitive. In our automobile example, instead of creating one automobile at a time, rewriting each component, we are able to create an assembly line of automobiles."
   ]
  },
  {
   "cell_type": "markdown",
   "metadata": {},
   "source": [
    "# Libraries"
   ]
  },
  {
   "cell_type": "markdown",
   "metadata": {},
   "source": [
    "Libraries allow us to cut and paste prior written code. In some languages these are called packages or header files. Often to build our programs we need to use some functionality created by someone else. We can \"import\" libraries that contain functions and objects that make our life easier because instead of having to reinvent the wheel, we can use what is already in existence which definitely speeds up our production time."
   ]
  },
  {
   "cell_type": "markdown",
   "metadata": {},
   "source": [
    "We can import libraries in python as follows:"
   ]
  },
  {
   "cell_type": "code",
   "execution_count": null,
   "metadata": {},
   "outputs": [],
   "source": [
    "import numpy\n",
    "import pandas"
   ]
  },
  {
   "cell_type": "markdown",
   "metadata": {},
   "source": [
    "We can also import libraries using the following format:"
   ]
  },
  {
   "cell_type": "code",
   "execution_count": null,
   "metadata": {},
   "outputs": [],
   "source": [
    "from sklearn.preprocessing import StandardScaler"
   ]
  },
  {
   "cell_type": "markdown",
   "metadata": {},
   "source": [
    "So what's the difference between the two library importing formats. In the first instance we imported the entire library(i.e. numpy and pandas). However, in the second instance, we imported a specific class from the larger library. In the second instance, we only imported the StandardScaler object from sklearn's preprocessing class. We could have imported the entire sklearn library by following the first format."
   ]
  },
  {
   "cell_type": "markdown",
   "metadata": {},
   "source": [
    "Something that is common in Python programming is to import libraries but use an alias to call them. This format looks like the following:"
   ]
  },
  {
   "cell_type": "code",
   "execution_count": null,
   "metadata": {},
   "outputs": [],
   "source": [
    "import numpy as np\n",
    "import pandas as pd\n",
    "import matplotlib.pyplot as plt"
   ]
  },
  {
   "cell_type": "markdown",
   "metadata": {},
   "source": [
    "Above we used the as operator to specify how we would like to call the library. For example, if we were using the first method to import numpy, everytime we wanted to use a function or class from numpy we would have to write out numpy followed by the dot operator and the name of the function. However, in the example above, we can simply write np.whateverfunction. Let's see an example."
   ]
  },
  {
   "cell_type": "code",
   "execution_count": null,
   "metadata": {},
   "outputs": [],
   "source": [
    "#using numpy to create a list of random numbers\n",
    "random_numbers=np.random.randn(10)"
   ]
  },
  {
   "cell_type": "code",
   "execution_count": null,
   "metadata": {},
   "outputs": [],
   "source": [
    "#displaying our list of random numbers\n",
    "print(random_numbers)"
   ]
  },
  {
   "cell_type": "markdown",
   "metadata": {},
   "source": [
    "## Additional Resources"
   ]
  },
  {
   "cell_type": "markdown",
   "metadata": {},
   "source": [
    "Below are a few free resources to learn more about the Python programming language."
   ]
  },
  {
   "cell_type": "markdown",
   "metadata": {},
   "source": [
    "Tutorials Point Python Tutorial-https://www.tutorialspoint.com/python"
   ]
  },
  {
   "cell_type": "markdown",
   "metadata": {},
   "source": [
    "W3 Schools Python Reference-https://www.w3schools.com/python/python_reference.asp"
   ]
  },
  {
   "cell_type": "markdown",
   "metadata": {},
   "source": [
    "Official Python Documentation-https://docs.python.org/3/tutorial/index.html"
   ]
  }
 ],
 "metadata": {
  "kernelspec": {
   "display_name": "Python 3",
   "language": "python",
   "name": "python3"
  },
  "language_info": {
   "codemirror_mode": {
    "name": "ipython",
    "version": 3
   },
   "file_extension": ".py",
   "mimetype": "text/x-python",
   "name": "python",
   "nbconvert_exporter": "python",
   "pygments_lexer": "ipython3",
   "version": "3.7.1"
  }
 },
 "nbformat": 4,
 "nbformat_minor": 2
}
